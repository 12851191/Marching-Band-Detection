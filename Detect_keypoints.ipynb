{
  "nbformat": 4,
  "nbformat_minor": 0,
  "metadata": {
    "colab": {
      "provenance": [],
      "gpuType": "T4"
    },
    "kernelspec": {
      "name": "python3",
      "display_name": "Python 3"
    },
    "language_info": {
      "name": "python"
    },
    "accelerator": "GPU"
  },
  "cells": [
    {
      "cell_type": "code",
      "execution_count": null,
      "metadata": {
        "id": "eEgrJtc0daAm"
      },
      "outputs": [],
      "source": [
        "import os\n",
        "HOME = os.getcwd()\n",
        "print(HOME)"
      ]
    },
    {
      "cell_type": "code",
      "source": [
        "!pip install -q ultralytics roboflow"
      ],
      "metadata": {
        "id": "nDiTXDD2ddI-"
      },
      "execution_count": null,
      "outputs": []
    },
    {
      "cell_type": "code",
      "source": [
        "from roboflow import Roboflow\n",
        "from google.colab import userdata\n",
        "from IPython.display import Image"
      ],
      "metadata": {
        "id": "A-0yoAiQdeK0"
      },
      "execution_count": null,
      "outputs": []
    },
    {
      "cell_type": "code",
      "source": [
        "!mkdir {HOME}/datasets\n",
        "%cd {HOME}/datasets\n",
        "\n",
        "ROBOFLOW_API = userdata.get('ROBOFLOW_API')\n",
        "rf = Roboflow(api_key=ROBOFLOW_API)\n",
        "\n",
        "project = rf.workspace(\"mb-fbwt7\").project(\"keypoints-ppgvd\")\n",
        "version = project.version(3)\n",
        "dataset = version.download(\"yolov8\")"
      ],
      "metadata": {
        "id": "5fwJl5tYdfou"
      },
      "execution_count": null,
      "outputs": []
    },
    {
      "cell_type": "code",
      "source": [
        "!sed -i 's|\\(train: \\).*|\\1../train/images|' {dataset.location}/data.yaml\n",
        "!sed -i 's|\\(val: \\).*|\\1../valid/images|' {dataset.location}/data.yaml"
      ],
      "metadata": {
        "id": "B2eNSfdMdyH3"
      },
      "execution_count": null,
      "outputs": []
    },
    {
      "cell_type": "code",
      "source": [
        "%cd {HOME}\n",
        "\n",
        "!yolo task=pose mode=train model=yolov8x-pose.pt save=True pretrained=/content/best.pt data={dataset.location}/data.yaml batch=48 epochs=500 imgsz=640 mosaic=0.0 plots=True"
      ],
      "metadata": {
        "id": "SpdO-CBfdzM-"
      },
      "execution_count": null,
      "outputs": []
    },
    {
      "cell_type": "code",
      "source": [
        "%cd {HOME}\n",
        "Image(filename=f'{HOME}/runs/pose/train/val_batch0_pred.jpg', width=600)"
      ],
      "metadata": {
        "id": "BT5MdvHxerem"
      },
      "execution_count": null,
      "outputs": []
    },
    {
      "cell_type": "code",
      "source": [
        "%cd {HOME}\n",
        "\n",
        "!yolo task=pose mode=val model=/content/best.pt data={dataset.location}/data.yaml"
      ],
      "metadata": {
        "id": "OIe_el3fevAf"
      },
      "execution_count": null,
      "outputs": []
    },
    {
      "cell_type": "code",
      "source": [
        "project.version(dataset.version).deploy(model_type=\"yolov11n-pose\", model_path=f\"{HOME}/runs/pose/train/\")"
      ],
      "metadata": {
        "id": "6jpGmb78ewIb"
      },
      "execution_count": null,
      "outputs": []
    }
  ]
}